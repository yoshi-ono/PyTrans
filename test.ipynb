{
 "cells": [
  {
   "cell_type": "code",
   "execution_count": 2,
   "source": [
    "i = 1\n",
    "s = 'string'\n",
    "print(str(i) + ': ' + s)"
   ],
   "outputs": [
    {
     "output_type": "stream",
     "name": "stdout",
     "text": [
      "1: string\n"
     ]
    }
   ],
   "metadata": {}
  },
  {
   "cell_type": "code",
   "execution_count": 3,
   "source": [
    "print(i, ': ', s)"
   ],
   "outputs": [
    {
     "output_type": "stream",
     "name": "stdout",
     "text": [
      "1 :  string\n"
     ]
    }
   ],
   "metadata": {}
  },
  {
   "cell_type": "code",
   "execution_count": 5,
   "source": [
    "import re\n",
    "\n",
    "name = \"README_translated_ja.md\"\n",
    "ret = re.search(r'_translated_[a-z][a-z].md$', name)\n",
    "print(ret)\n",
    "\n",
    "text = \"text  \\n\"\n",
    "ret = re.search(r'  \\n$', text)\n",
    "print(ret)"
   ],
   "outputs": [
    {
     "output_type": "stream",
     "name": "stdout",
     "text": [
      "<re.Match object; span=(6, 23), match='_translated_ja.md'>\n",
      "None\n"
     ]
    }
   ],
   "metadata": {}
  },
  {
   "cell_type": "code",
   "execution_count": 3,
   "source": [
    "from os import path as ospath\n",
    "\n",
    "print(ospath.isfile(\"README_translated_ja.md\"))\n",
    "print(ospath.isfile(\"HOME_translated_ja.md\"))"
   ],
   "outputs": [
    {
     "output_type": "stream",
     "name": "stdout",
     "text": [
      "False\n",
      "True\n"
     ]
    }
   ],
   "metadata": {}
  },
  {
   "cell_type": "code",
   "execution_count": 12,
   "source": [
    "import json\n",
    "\n",
    "with open('01-Ray-Tasks.ipynb') as f:\n",
    "    jsn = json.load(f)\n",
    "    \n",
    "    #print(jsn)\n",
    "\n",
    "    print(len(jsn['cells']))\n",
    "\n",
    "    print(jsn['cells'][0]['source'])\n",
    "    print(len(jsn['cells'][0]['source']))\n",
    "\n",
    "    print(jsn['cells'][1]['source'])\n",
    "    print(len(jsn['cells'][1]['source']))\n",
    "    "
   ],
   "outputs": [
    {
     "output_type": "stream",
     "name": "stdout",
     "text": [
      "68\n",
      "['# Ray Crash Course - Tasks\\n', '\\n', '© 2019-2021, Anyscale. All Rights Reserved\\n', '\\n', '![Anyscale Academy](../images/AnyscaleAcademyLogo.png)\\n', '\\n', \"Let's quickly explore the Ray API using some examples that demonstrate how Ray enables horizontal scalability.\\n\", '\\n', '> **Tip:** For more about Ray, see [ray.io](https://ray.io) or the [Ray documentation](https://docs.ray.io/en/latest/).']\n",
      "9\n",
      "[\"Evaluate the next _three_ notebook cells (shift+return, if you're new to notebooks), down to and including `run_simulations(...)`, and watch what happens:\"]\n",
      "1\n"
     ]
    }
   ],
   "metadata": {}
  }
 ],
 "metadata": {
  "interpreter": {
   "hash": "31f2aee4e71d21fbe5cf8b01ff0e069b9275f58929596ceb00d14d90e3e16cd6"
  },
  "kernelspec": {
   "name": "python3",
   "display_name": "Python 3.8.2 64-bit"
  },
  "language_info": {
   "codemirror_mode": {
    "name": "ipython",
    "version": 3
   },
   "file_extension": ".py",
   "mimetype": "text/x-python",
   "name": "python",
   "nbconvert_exporter": "python",
   "pygments_lexer": "ipython3",
   "version": "3.8.2"
  },
  "orig_nbformat": 4
 },
 "nbformat": 4,
 "nbformat_minor": 2
}