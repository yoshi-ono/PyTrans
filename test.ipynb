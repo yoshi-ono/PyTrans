{
 "cells": [
  {
   "cell_type": "code",
   "execution_count": 2,
   "metadata": {},
   "outputs": [
    {
     "name": "stdout",
     "output_type": "stream",
     "text": [
      "1: string\n"
     ]
    }
   ],
   "source": [
    "i = 1\n",
    "s = 'string'\n",
    "print(str(i) + ': ' + s)"
   ]
  },
  {
   "cell_type": "code",
   "execution_count": 3,
   "metadata": {},
   "outputs": [
    {
     "name": "stdout",
     "output_type": "stream",
     "text": [
      "1 :  string\n"
     ]
    }
   ],
   "source": [
    "print(i, ': ', s)"
   ]
  },
  {
   "cell_type": "code",
   "execution_count": 6,
   "metadata": {},
   "outputs": [
    {
     "name": "stdout",
     "output_type": "stream",
     "text": [
      "None\n"
     ]
    }
   ],
   "source": [
    "import re\r\n",
    "\r\n",
    "name = \"README_translated_ja.md\"\r\n",
    "\r\n",
    "ret = re.search(r'_translated_[a-z][a-z]_md', name)\r\n",
    "\r\n",
    "print(ret)"
   ]
  }
 ],
 "metadata": {
  "interpreter": {
   "hash": "7dad4439d2ed0cb7eb91c737f281d05ad7b030d749eb3394683bf59b3d98fd11"
  },
  "kernelspec": {
   "display_name": "Python 3.8.3 64-bit",
   "name": "python3"
  },
  "language_info": {
   "codemirror_mode": {
    "name": "ipython",
    "version": 3
   },
   "file_extension": ".py",
   "mimetype": "text/x-python",
   "name": "python",
   "nbconvert_exporter": "python",
   "pygments_lexer": "ipython3",
   "version": "3.8.3"
  },
  "orig_nbformat": 4
 },
 "nbformat": 4,
 "nbformat_minor": 2
}